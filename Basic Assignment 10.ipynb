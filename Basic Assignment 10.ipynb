{
 "cells": [
  {
   "cell_type": "markdown",
   "metadata": {},
   "source": [
    "1.\tWrite a Python program to find sum of elements in list?\n",
    "2.\tWrite a Python program to  Multiply all numbers in the list?\n",
    "3.\tWrite a Python program to find smallest number in a list?\n",
    "4.\tWrite a Python program to find largest number in a list?\n",
    "5.\tWrite a Python program to find second largest number in a list?\n",
    "6.\tWrite a Python program to find N largest elements from a list?\n",
    "7.\tWrite a Python program to print even numbers in a list?\n",
    "8.\tWrite a Python program to print odd numbers in a List?\n",
    "9.\tWrite a Python program to Remove empty List from List?\n",
    "10.\tWrite a Python program to Cloning or Copying a list?\n",
    "11.\tWrite a Python program to Count occurrences of an element in a list?"
   ]
  },
  {
   "cell_type": "code",
   "execution_count": 27,
   "metadata": {},
   "outputs": [],
   "source": [
    "\n",
    "class Assignment_10:\n",
    "    '''this is a class'''\n",
    "    def list_sum(l):\n",
    "        return sum(l)\n",
    "    def list_multiply(l):\n",
    "        result = 1\n",
    "        for i in range(len(l)):\n",
    "            result = result*l[i]\n",
    "        return result\n",
    "    def smallet_in_list(l):\n",
    "        return min(l)\n",
    "    def largest_in_list(l):\n",
    "        return max(l)\n",
    "    def second_largest_in_list(l):\n",
    "        m = max(l)\n",
    "        l.remove(m)\n",
    "        return f\"Largest of the list is : {max(l)}\"\n",
    "    def N_largest_neumber(l,N):\n",
    "        '''l = list, N = Number of largest outputs'''\n",
    "        largest = []\n",
    "        for i in range(0,N):\n",
    "            temp = max(l)\n",
    "            largest.append(temp)\n",
    "            l.remove(temp)\n",
    "        return f\"List of {N} largest elements are {largest}\"\n",
    "    def even_in_list(l):\n",
    "        temp = []\n",
    "        for i in range(len(l)):\n",
    "            if l[i]%2 == 0 and l[i] !=0:\n",
    "                temp.append(l[i])\n",
    "        return f\"Even Numbers in the given list are : {temp}\"\n",
    "    def odd_in_list():\n",
    "        temp = []\n",
    "        for i in range(len(l)):\n",
    "            if l[i]%2 != 0 and l[i] !=0:\n",
    "                temp.append(l[i])\n",
    "        return f\"Odd Numbers in the given list are : {temp}\"\n",
    "    def remove_empty_list_within(l):\n",
    "        for n in l:\n",
    "            if n == []:\n",
    "                l.remove(n)\n",
    "        return f\"the list after removing the empty lists within is : {l}\"\n",
    "    def copy_list(l):\n",
    "        copy_of_l = l\n",
    "        return \"the list was duplicated and stored in copy_of_l\"\n",
    "    def count_occurences(l,n):\n",
    "        '''l = list , n = number occuring'''\n",
    "        return f\"The occurence of {n} in given list is {l.count(n)} times\"\n",
    "\n",
    "        \n",
    "\n",
    "\n",
    "\n"
   ]
  },
  {
   "cell_type": "code",
   "execution_count": 28,
   "metadata": {},
   "outputs": [
    {
     "data": {
      "text/plain": [
       "'Even Numbers in the given list are : [2, 4, 34, 2, 4]'"
      ]
     },
     "execution_count": 28,
     "metadata": {},
     "output_type": "execute_result"
    }
   ],
   "source": [
    "x = [1,2,4,5,23,87,9,0,5,34,2,1,4,5,7,0,3]\n",
    "obj = list_operations\n",
    "obj.even_in_list(x)"
   ]
  },
  {
   "cell_type": "code",
   "execution_count": 29,
   "metadata": {},
   "outputs": [
    {
     "data": {
      "text/plain": [
       "'The occurence of 1 in given list is 2 times'"
      ]
     },
     "execution_count": 29,
     "metadata": {},
     "output_type": "execute_result"
    }
   ],
   "source": []
  },
  {
   "cell_type": "code",
   "execution_count": null,
   "metadata": {},
   "outputs": [],
   "source": []
  }
 ],
 "metadata": {
  "interpreter": {
   "hash": "e449e2464aa6784a7c762a4a40d023d951a287ecae2dad782490be59e801086b"
  },
  "kernelspec": {
   "display_name": "Python 3.8.8 64-bit ('base': conda)",
   "language": "python",
   "name": "python3"
  },
  "language_info": {
   "codemirror_mode": {
    "name": "ipython",
    "version": 3
   },
   "file_extension": ".py",
   "mimetype": "text/x-python",
   "name": "python",
   "nbconvert_exporter": "python",
   "pygments_lexer": "ipython3",
   "version": "3.8.8"
  },
  "orig_nbformat": 4
 },
 "nbformat": 4,
 "nbformat_minor": 2
}
