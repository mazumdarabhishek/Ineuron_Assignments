{
 "cells": [
  {
   "cell_type": "markdown",
   "id": "af7a8ebe",
   "metadata": {},
   "source": [
    "1.\tWrite a Python Program to Find the Factorial of a Number?"
   ]
  },
  {
   "cell_type": "code",
   "execution_count": 5,
   "id": "0453d6d0",
   "metadata": {},
   "outputs": [
    {
     "data": {
      "text/plain": [
       "3628800"
      ]
     },
     "execution_count": 5,
     "metadata": {},
     "output_type": "execute_result"
    }
   ],
   "source": [
    "def factorial(num):\n",
    "    for i in range(1,num):\n",
    "        num = num*i\n",
    "    return num\n",
    "factorial(10)"
   ]
  },
  {
   "cell_type": "markdown",
   "id": "ddda137a",
   "metadata": {},
   "source": [
    "2.\tWrite a Python Program to Display the multiplication Table?"
   ]
  },
  {
   "cell_type": "code",
   "execution_count": 7,
   "id": "08aaaa6c",
   "metadata": {},
   "outputs": [
    {
     "name": "stdout",
     "output_type": "stream",
     "text": [
      "1 X 2 = 2\n",
      "2 X 2 = 4\n",
      "3 X 2 = 6\n",
      "4 X 2 = 8\n",
      "5 X 2 = 10\n",
      "6 X 2 = 12\n",
      "7 X 2 = 14\n",
      "8 X 2 = 16\n",
      "9 X 2 = 18\n",
      "10 X 2 = 20\n"
     ]
    }
   ],
   "source": [
    "#multiplication table of 2\n",
    "num = 2\n",
    "for i in range(1,11):\n",
    "    print(f\"{i} X {2} = {i*2}\")"
   ]
  },
  {
   "cell_type": "markdown",
   "id": "6343e7de",
   "metadata": {},
   "source": [
    "3.\tWrite a Python Program to Print the Fibonacci sequence?\n"
   ]
  },
  {
   "cell_type": "code",
   "execution_count": 14,
   "id": "d8bb709e",
   "metadata": {},
   "outputs": [
    {
     "name": "stdout",
     "output_type": "stream",
     "text": [
      "0\n",
      "1\n",
      "1\n",
      "2\n",
      "3\n",
      "5\n",
      "8\n",
      "13\n",
      "21\n",
      "34\n"
     ]
    }
   ],
   "source": [
    "def febo(n):\n",
    "    i0 = 0\n",
    "    i1 = 1  \n",
    "    for i in range(n):\n",
    "        print (i0)\n",
    "        nxt = i0 + i1\n",
    "        i0 = i1\n",
    "        i1 = nxt\n",
    "    \n",
    "febo(10)\n",
    "        "
   ]
  },
  {
   "cell_type": "markdown",
   "id": "f038b527",
   "metadata": {},
   "source": [
    "4.\tWrite a Python Program to Check Armstrong Number?"
   ]
  },
  {
   "cell_type": "code",
   "execution_count": 5,
   "id": "3e1588e1",
   "metadata": {},
   "outputs": [],
   "source": [
    "def armstrong(num):\n",
    "    sum_ = 0\n",
    "    temp =num \n",
    "    while temp>0:\n",
    "        x = temp%10\n",
    "        print (\"the digit is : {}\".format(x))\n",
    "        sum_ += x**3\n",
    "        #temp = temp/10 this will give us a float. we can either use round funct. or floor operator\n",
    "        temp //=10\n",
    "        print(\"the next floor number is : {}\".format(temp))\n",
    "    if num == sum_:\n",
    "        print(f\"the Number {num} is an armstrong as {num} = {sum_}\")\n",
    "    else:\n",
    "        print(\"Not an Armstrong Number\")\n",
    "        "
   ]
  },
  {
   "cell_type": "code",
   "execution_count": 6,
   "id": "30b00bba",
   "metadata": {},
   "outputs": [
    {
     "name": "stdout",
     "output_type": "stream",
     "text": [
      "the digit is : 3\n",
      "the next floor number is : 15\n",
      "the digit is : 5\n",
      "the next floor number is : 1\n",
      "the digit is : 1\n",
      "the next floor number is : 0\n",
      "the Number 153 is an armstrong as 153 = 153\n"
     ]
    }
   ],
   "source": [
    "armstrong(153)"
   ]
  },
  {
   "cell_type": "code",
   "execution_count": 7,
   "id": "7b10c91a",
   "metadata": {},
   "outputs": [
    {
     "name": "stdout",
     "output_type": "stream",
     "text": [
      "the digit is : 4\n",
      "the next floor number is : 11\n",
      "the digit is : 1\n",
      "the next floor number is : 1\n",
      "the digit is : 1\n",
      "the next floor number is : 0\n",
      "Not an Armstrong Number\n"
     ]
    }
   ],
   "source": [
    "armstrong(114)"
   ]
  },
  {
   "cell_type": "markdown",
   "id": "0ace4b2e",
   "metadata": {},
   "source": [
    "5.\tWrite a Python Program to Find Armstrong Number in an Interval?"
   ]
  },
  {
   "cell_type": "code",
   "execution_count": 13,
   "id": "17222277",
   "metadata": {},
   "outputs": [],
   "source": [
    "def is_arm_interval(int_from,int_to):\n",
    "    for num in range(int_from,int_to):\n",
    "        sum_ = 0\n",
    "        temp =num \n",
    "        while temp>0:\n",
    "            x = temp%10\n",
    "            sum_ += x**3\n",
    "            #temp = temp/10 this will give us a float. we can either use round funct. or floor operator\n",
    "            temp //=10\n",
    "        if num == sum_:\n",
    "            print(f\"the Number {num} is an armstrong as {num} = {sum_}\")\n",
    "        else:\n",
    "            continue\n",
    "        "
   ]
  },
  {
   "cell_type": "code",
   "execution_count": 16,
   "id": "c6ef2884",
   "metadata": {},
   "outputs": [
    {
     "name": "stdout",
     "output_type": "stream",
     "text": [
      "the Number 0 is an armstrong as 0 = 0\n",
      "the Number 1 is an armstrong as 1 = 1\n",
      "the Number 153 is an armstrong as 153 = 153\n",
      "the Number 370 is an armstrong as 370 = 370\n",
      "the Number 371 is an armstrong as 371 = 371\n",
      "the Number 407 is an armstrong as 407 = 407\n"
     ]
    }
   ],
   "source": [
    "is_arm_interval(0,1000)"
   ]
  },
  {
   "cell_type": "markdown",
   "id": "6b427437",
   "metadata": {},
   "source": [
    "6.\tWrite a Python Program to Find the Sum of Natural Numbers?"
   ]
  },
  {
   "cell_type": "code",
   "execution_count": 17,
   "id": "f827616d",
   "metadata": {},
   "outputs": [],
   "source": [
    "def sum_natural(int_from,int_to):\n",
    "    sum_ = 0\n",
    "    for i in range(int_from,int_to+1):\n",
    "        sum_ += i\n",
    "    return f\"the sum of natural number from {int_from} to {int_to} is {sum_}\""
   ]
  },
  {
   "cell_type": "code",
   "execution_count": 18,
   "id": "8b0c5b8f",
   "metadata": {},
   "outputs": [
    {
     "data": {
      "text/plain": [
       "'the sum of natural number from 0 to 100 is 5050'"
      ]
     },
     "execution_count": 18,
     "metadata": {},
     "output_type": "execute_result"
    }
   ],
   "source": [
    "sum_natural(0,100)"
   ]
  },
  {
   "cell_type": "code",
   "execution_count": null,
   "id": "03ee7de2",
   "metadata": {},
   "outputs": [],
   "source": []
  }
 ],
 "metadata": {
  "kernelspec": {
   "display_name": "Python 3",
   "language": "python",
   "name": "python3"
  },
  "language_info": {
   "codemirror_mode": {
    "name": "ipython",
    "version": 3
   },
   "file_extension": ".py",
   "mimetype": "text/x-python",
   "name": "python",
   "nbconvert_exporter": "python",
   "pygments_lexer": "ipython3",
   "version": "3.8.8"
  }
 },
 "nbformat": 4,
 "nbformat_minor": 5
}
