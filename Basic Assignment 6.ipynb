{
 "cells": [
  {
   "cell_type": "markdown",
   "id": "ff0b8f94",
   "metadata": {},
   "source": [
    "1.\tWrite a Python Program to Display Fibonacci Sequence Using Recursion?"
   ]
  },
  {
   "cell_type": "code",
   "execution_count": 10,
   "id": "af24ce19",
   "metadata": {},
   "outputs": [],
   "source": [
    "def fib_recursion(x):\n",
    "    if x <= 1:\n",
    "        return x\n",
    "    else:\n",
    "        return(fib_recursion(x-1)+fib_recursion(x-2))\n",
    "       \n",
    "        \n",
    "        "
   ]
  },
  {
   "cell_type": "code",
   "execution_count": 11,
   "id": "4a4fa3c9",
   "metadata": {},
   "outputs": [
    {
     "name": "stdout",
     "output_type": "stream",
     "text": [
      "0\n",
      "1\n",
      "1\n",
      "2\n",
      "3\n",
      "5\n",
      "8\n",
      "13\n",
      "21\n",
      "34\n"
     ]
    }
   ],
   "source": [
    "for i in range(10):\n",
    "    print(fib_recursion(i))"
   ]
  },
  {
   "cell_type": "markdown",
   "id": "29ac7a39",
   "metadata": {},
   "source": [
    "2.\tWrite a Python Program to Find Factorial of Number Using Recursion?\n"
   ]
  },
  {
   "cell_type": "code",
   "execution_count": 12,
   "id": "43da4802",
   "metadata": {},
   "outputs": [],
   "source": [
    "def recur_fact(n):\n",
    "    if n == 0:\n",
    "        return 0\n",
    "    elif n==1:\n",
    "        return 1\n",
    "    else:\n",
    "        return(n*recur_fact(n-1))"
   ]
  },
  {
   "cell_type": "code",
   "execution_count": 13,
   "id": "76792797",
   "metadata": {},
   "outputs": [
    {
     "data": {
      "text/plain": [
       "6"
      ]
     },
     "execution_count": 13,
     "metadata": {},
     "output_type": "execute_result"
    }
   ],
   "source": [
    "recur_fact(3)"
   ]
  },
  {
   "cell_type": "markdown",
   "id": "b1d43072",
   "metadata": {},
   "source": [
    "3.\tWrite a Python Program to calculate your Body Mass Index?"
   ]
  },
  {
   "cell_type": "code",
   "execution_count": 19,
   "id": "366fc84b",
   "metadata": {},
   "outputs": [],
   "source": [
    "def BMI(h,w):\n",
    "    h_in_meter = h*0.3048 \n",
    "    BMI = w/((h_in_meter)**2)\n",
    "    if BMI <= 18.4:\n",
    "        print(f\"BMI = {BMI}, Under Weight\")\n",
    "    elif BMI<=29.4:\n",
    "        print(f\"BMI = {BMI},Normal Weight\")\n",
    "    elif BMI<=29.9:\n",
    "        print(f\"BMI = {BMI},Over-Weight\")\n",
    "    elif BMI<=34.9:\n",
    "        print(f\"BMI = {BMI},Obesity class 1\")\n",
    "    elif BMI<=49.9:\n",
    "        print(f\"BMI = {BMI},Obesity class 2\")\n",
    "    else:\n",
    "        print(f\"BMI = {BMI},You Death is Near\")"
   ]
  },
  {
   "cell_type": "code",
   "execution_count": 25,
   "id": "ca3633ff",
   "metadata": {},
   "outputs": [
    {
     "name": "stdout",
     "output_type": "stream",
     "text": [
      "BMI = 28.968617038434473,Normal Weight\n"
     ]
    }
   ],
   "source": [
    "BMI(5.10,70)"
   ]
  },
  {
   "cell_type": "markdown",
   "id": "5501e67a",
   "metadata": {},
   "source": [
    "4.\tWrite a Python Program to calculate the natural logarithm of any number?"
   ]
  },
  {
   "cell_type": "code",
   "execution_count": 26,
   "id": "674dba43",
   "metadata": {},
   "outputs": [],
   "source": [
    "import numpy as np\n",
    "def natural_log(n):\n",
    "    return np.log(n)"
   ]
  },
  {
   "cell_type": "code",
   "execution_count": 31,
   "id": "80f88d94",
   "metadata": {},
   "outputs": [
    {
     "data": {
      "text/plain": [
       "4.605170185988092"
      ]
     },
     "execution_count": 31,
     "metadata": {},
     "output_type": "execute_result"
    }
   ],
   "source": [
    "natural_log(100)"
   ]
  },
  {
   "cell_type": "markdown",
   "id": "2e5622ea",
   "metadata": {},
   "source": [
    "5.\tWrite a Python Program for cube sum of first n natural numbers?"
   ]
  },
  {
   "cell_type": "code",
   "execution_count": 32,
   "id": "51355da3",
   "metadata": {},
   "outputs": [
    {
     "ename": "SyntaxError",
     "evalue": "unexpected EOF while parsing (<ipython-input-32-4c954df1fdc0>, line 1)",
     "output_type": "error",
     "traceback": [
      "\u001b[1;36m  File \u001b[1;32m\"<ipython-input-32-4c954df1fdc0>\"\u001b[1;36m, line \u001b[1;32m1\u001b[0m\n\u001b[1;33m    def cube_sum(n):\u001b[0m\n\u001b[1;37m                    ^\u001b[0m\n\u001b[1;31mSyntaxError\u001b[0m\u001b[1;31m:\u001b[0m unexpected EOF while parsing\n"
     ]
    }
   ],
   "source": [
    "def cube_sum(n):\n",
    "    for i in range(n):\n",
    "        sum += i"
   ]
  },
  {
   "cell_type": "code",
   "execution_count": null,
   "id": "c99a1e3e",
   "metadata": {},
   "outputs": [],
   "source": []
  }
 ],
 "metadata": {
  "kernelspec": {
   "display_name": "Python 3",
   "language": "python",
   "name": "python3"
  },
  "language_info": {
   "codemirror_mode": {
    "name": "ipython",
    "version": 3
   },
   "file_extension": ".py",
   "mimetype": "text/x-python",
   "name": "python",
   "nbconvert_exporter": "python",
   "pygments_lexer": "ipython3",
   "version": "3.8.8"
  }
 },
 "nbformat": 4,
 "nbformat_minor": 5
}
