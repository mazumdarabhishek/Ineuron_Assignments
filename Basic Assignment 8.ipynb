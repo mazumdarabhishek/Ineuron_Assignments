{
 "cells": [
  {
   "cell_type": "markdown",
   "id": "477bdeac",
   "metadata": {},
   "source": [
    "1.\tWrite a Python Program to Add Two Matrices?\n",
    "2.\tWrite a Python Program to Multiply Two Matrices?\n",
    "3.\tWrite a Python Program to Transpose a Matrix?\n",
    "4.\tWrite a Python Program to Sort Words in Alphabetic Order?\n",
    "5.\tWrite a Python Program to Remove Punctuation From a String?\n",
    "\n",
    "*A class to descibe all these methods*"
   ]
  },
  {
   "cell_type": "code",
   "execution_count": 1,
   "id": "6a5d6906",
   "metadata": {},
   "outputs": [],
   "source": [
    "import numpy as np"
   ]
  },
  {
   "cell_type": "code",
   "execution_count": 102,
   "id": "c812ba3f",
   "metadata": {},
   "outputs": [],
   "source": [
    "class assignment_8:\n",
    "    def metrics_add(x,y):\n",
    "        result = [[x[i][j]+y[i][j] for j in range(len(x[0]))]\n",
    "                  for i in range(len(x))]\n",
    "        return np.array(result)\n",
    "    def metrics_multiply(x,y):\n",
    "        result = [[0 for i in range(len(x))]for j in range(len(y[0]))]\n",
    "        try:\n",
    "            for i in range(len(x)):\n",
    "                for j in range(len(y[0])):\n",
    "                    for k in range(len(y)):\n",
    "                        result[i][j] += x[i][k]*y[k][j]\n",
    "        except:\n",
    "            print(\"please enter matrix with shape mxn and nxq\")\n",
    "        return np.array(result)\n",
    "    def metrics_transpose(x):\n",
    "        result = [[x[i][j] for i in range(len(x[0]))]for j in range(len(x))]\n",
    "        return np.array(result)\n",
    "    def alpha_sorting(scentence):\n",
    "        y = [alpha.lower() for alpha in scentence.split()]\n",
    "        y.sort()\n",
    "        return y\n",
    "    def remove_punctuation(str_): \n",
    "        punc = '!@#$%^&*.,?;:'\n",
    "        for x in str_:\n",
    "            if x in punc:\n",
    "                str_ =str_.replace(x,' ')\n",
    "        print(str_)\n",
    "        \n",
    "        \n",
    "        \n",
    "            "
   ]
  },
  {
   "cell_type": "code",
   "execution_count": 103,
   "id": "666c000c",
   "metadata": {},
   "outputs": [
    {
     "data": {
      "text/plain": [
       "array([[10, 10, 10],\n",
       "       [10, 10, 10],\n",
       "       [10, 10, 10]])"
      ]
     },
     "execution_count": 103,
     "metadata": {},
     "output_type": "execute_result"
    }
   ],
   "source": [
    "mat_1 = [[1,2,3],\n",
    "        [4,5,6],\n",
    "        [7,8,9]]\n",
    "mat_2 = [[9,8,7],\n",
    "        [6,5,4],\n",
    "        [3,2,1]]\n",
    "obj = assignment_8\n",
    "obj.metrics_add(mat_1,mat_2)"
   ]
  },
  {
   "cell_type": "code",
   "execution_count": 104,
   "id": "1edbb446",
   "metadata": {},
   "outputs": [
    {
     "data": {
      "text/plain": [
       "array([[ 30,  24,  18],\n",
       "       [ 84,  69,  54],\n",
       "       [138, 114,  90]])"
      ]
     },
     "execution_count": 104,
     "metadata": {},
     "output_type": "execute_result"
    }
   ],
   "source": [
    "obj.metrics_multiply(mat_1,mat_2)\n",
    "\n"
   ]
  },
  {
   "cell_type": "code",
   "execution_count": 105,
   "id": "4d2f27d9",
   "metadata": {},
   "outputs": [
    {
     "data": {
      "text/plain": [
       "array([[1, 4, 7],\n",
       "       [2, 5, 8],\n",
       "       [3, 6, 9]])"
      ]
     },
     "execution_count": 105,
     "metadata": {},
     "output_type": "execute_result"
    }
   ],
   "source": [
    "obj.metrics_transpose(mat_1)"
   ]
  },
  {
   "cell_type": "code",
   "execution_count": 106,
   "id": "cec1b17a",
   "metadata": {},
   "outputs": [
    {
     "data": {
      "text/plain": [
       "['dfeacbh']"
      ]
     },
     "execution_count": 106,
     "metadata": {},
     "output_type": "execute_result"
    }
   ],
   "source": [
    "obj.alpha_sorting('dfeacbh')"
   ]
  },
  {
   "cell_type": "code",
   "execution_count": 107,
   "id": "d2f38dc1",
   "metadata": {},
   "outputs": [
    {
     "data": {
      "text/plain": [
       "['its', 'its', 'life', 'my', 'never', 'now', 'or']"
      ]
     },
     "execution_count": 107,
     "metadata": {},
     "output_type": "execute_result"
    }
   ],
   "source": [
    "x = 'Its my life its now or never'\n",
    "obj.alpha_sorting(x)\n",
    "\n"
   ]
  },
  {
   "cell_type": "code",
   "execution_count": 108,
   "id": "5561f180",
   "metadata": {},
   "outputs": [
    {
     "name": "stdout",
     "output_type": "stream",
     "text": [
      "this is my life  and its an awesome  life  for   me to leave\n"
     ]
    }
   ],
   "source": [
    "y = \"this.is my life, and its an awesome, life, for . me to leave\"\n",
    "obj.remove_punctuation(y)\n",
    "\n"
   ]
  }
 ],
 "metadata": {
  "kernelspec": {
   "display_name": "Python 3",
   "language": "python",
   "name": "python3"
  },
  "language_info": {
   "codemirror_mode": {
    "name": "ipython",
    "version": 3
   },
   "file_extension": ".py",
   "mimetype": "text/x-python",
   "name": "python",
   "nbconvert_exporter": "python",
   "pygments_lexer": "ipython3",
   "version": "3.8.8"
  }
 },
 "nbformat": 4,
 "nbformat_minor": 5
}
