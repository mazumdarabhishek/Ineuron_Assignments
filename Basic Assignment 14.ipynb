{
 "cells": [
  {
   "cell_type": "markdown",
   "metadata": {},
   "source": [
    "Question 1:\n",
    "\n",
    "Define a class with a generator which can iterate the numbers, which are divisible by 7, between a given range 0 and n.\n"
   ]
  },
  {
   "cell_type": "code",
   "execution_count": 40,
   "metadata": {},
   "outputs": [],
   "source": [
    "class gen_7:\n",
    "    def __init__(self,num_range):\n",
    "        self.num_range = num_range\n",
    "    def gen(self):\n",
    "        for i in range(self.num_range):\n",
    "            if i%7==0:\n",
    "                yield i\n",
    "  \n",
    "\n",
    "\n"
   ]
  },
  {
   "cell_type": "code",
   "execution_count": 51,
   "metadata": {},
   "outputs": [
    {
     "data": {
      "text/plain": [
       "<generator object gen_7.gen at 0x00000205C052F900>"
      ]
     },
     "execution_count": 51,
     "metadata": {},
     "output_type": "execute_result"
    }
   ],
   "source": [
    "gen_object = gen_7(50)\n",
    "generator = gen_object.gen()\n",
    "generator"
   ]
  },
  {
   "cell_type": "code",
   "execution_count": 52,
   "metadata": {},
   "outputs": [
    {
     "name": "stdout",
     "output_type": "stream",
     "text": [
      "The 1 number divisible by 7 is : 0\n",
      "The 2 number divisible by 7 is : 7\n",
      "The 3 number divisible by 7 is : 14\n",
      "The 4 number divisible by 7 is : 21\n",
      "The 5 number divisible by 7 is : 28\n",
      "The 6 number divisible by 7 is : 35\n",
      "The 7 number divisible by 7 is : 42\n",
      "The 8 number divisible by 7 is : 49\n"
     ]
    }
   ],
   "source": [
    "j = 1\n",
    "for i in generator:\n",
    "    \n",
    "    print(f'The {j} number divisible by 7 is :',i)\n",
    "    j +=1"
   ]
  },
  {
   "cell_type": "markdown",
   "metadata": {},
   "source": [
    "Question 2:\n",
    "Write a program to compute the frequency of the words from the input. The output should output after sorting the key alphanumerically. \n",
    "\n",
    "Suppose the following input is supplied to the program:\n",
    "\n",
    "New to Python or choosing between Python 2 and Python 3? Read Python 2 or Python 3\n"
   ]
  },
  {
   "cell_type": "code",
   "execution_count": 80,
   "metadata": {},
   "outputs": [],
   "source": [
    "def calc():\n",
    "    in_list = [i for i in input(\"Please input the string for claculating word frequency : \\n\").split()]\n",
    "    dictionary ={}\n",
    "    for i in in_list:\n",
    "        if i in dictionary.keys():\n",
    "            continue\n",
    "        else:\n",
    "            \n",
    "            dictionary[i] = in_list.count(i)\n",
    "    \n",
    "    sorted_dict = dict(sorted(zip(dictionary.keys(),dictionary.values())))\n",
    "    return sorted_dict\n",
    "    \n",
    "    \n",
    "    \n",
    "\n",
    "    \n",
    "    \n"
   ]
  },
  {
   "cell_type": "code",
   "execution_count": 81,
   "metadata": {},
   "outputs": [
    {
     "data": {
      "text/plain": [
       "{'2': 2,\n",
       " '3': 1,\n",
       " '3?': 1,\n",
       " 'New': 1,\n",
       " 'Python': 5,\n",
       " 'Read': 1,\n",
       " 'and': 1,\n",
       " 'between': 1,\n",
       " 'choosing': 1,\n",
       " 'or': 2,\n",
       " 'to': 1}"
      ]
     },
     "execution_count": 81,
     "metadata": {},
     "output_type": "execute_result"
    }
   ],
   "source": [
    "calc()"
   ]
  },
  {
   "cell_type": "markdown",
   "metadata": {},
   "source": [
    "Question 3:\n",
    "\n",
    "\n",
    "\n",
    "Define a class Person and its two child classes: Male and Female. All classes have a method \"getGender\" which can print \"Male\" for Male class and \"Female\" for Female class.\n"
   ]
  },
  {
   "cell_type": "code",
   "execution_count": 82,
   "metadata": {},
   "outputs": [],
   "source": [
    "class Person:\n",
    "    def __init__(self,name):\n",
    "        self.name = name\n",
    "        \n",
    "    def __str__(self):\n",
    "        return f\"{self.name}\"\n",
    "class Male(Person):\n",
    "    def __init__(self,name, ):\n",
    "        super().__init__(name)\n",
    "        \n",
    "    def __str__(self):\n",
    "        return f\"{self.name} is : Male\"\n",
    "class Female(Person):\n",
    "    def __init__(self,name):\n",
    "        super().__init__(name)\n",
    "        \n",
    "    def __str__(self):\n",
    "        return f\"{self.name} is : Female\"\n"
   ]
  },
  {
   "cell_type": "code",
   "execution_count": 84,
   "metadata": {},
   "outputs": [
    {
     "name": "stdout",
     "output_type": "stream",
     "text": [
      "Abhisek Mazumdar is : Male\n"
     ]
    }
   ],
   "source": [
    "print(Male('Abhisek Mazumdar'))"
   ]
  },
  {
   "cell_type": "markdown",
   "metadata": {},
   "source": [
    "Question 4:\n",
    "Please write a program to generate all sentences where subject is in [\"I\", \"You\"] and verb is in [\"Play\", \"Love\"] and the object is in [\"Hockey\",\"Football\"].\n"
   ]
  },
  {
   "cell_type": "code",
   "execution_count": 96,
   "metadata": {},
   "outputs": [],
   "source": [
    "import random\n",
    "def random_sentence():\n",
    "    sub = [\"I\", \"You\"]\n",
    "    verb = [\"Play\", \"Love\"]\n",
    "    object = [\"Hockey\",\"Football\"]\n",
    "    while(True):\n",
    "        \n",
    "        print(f\"{random.choice(sub)} {random.choice(verb)} {random.choice(object)}\")\n",
    "        break"
   ]
  },
  {
   "cell_type": "code",
   "execution_count": 98,
   "metadata": {},
   "outputs": [
    {
     "name": "stdout",
     "output_type": "stream",
     "text": [
      "You Play Hockey\n"
     ]
    }
   ],
   "source": [
    "random_sentence()"
   ]
  },
  {
   "cell_type": "code",
   "execution_count": 99,
   "metadata": {},
   "outputs": [
    {
     "name": "stdout",
     "output_type": "stream",
     "text": [
      "I Play Football\n"
     ]
    }
   ],
   "source": [
    "random_sentence()"
   ]
  },
  {
   "cell_type": "markdown",
   "metadata": {},
   "source": [
    "Question 5:\n",
    "Please write a program to compress and decompress the string \"hello world!hello world!hello world!hello world!\".\n"
   ]
  },
  {
   "cell_type": "code",
   "execution_count": 104,
   "metadata": {},
   "outputs": [],
   "source": [
    "import zlib\n",
    "import sys\n",
    "def compress_decompress(s):\n",
    "    s = bytes(s,'utf-8')\n",
    "    compressed_string = zlib.compress(s)\n",
    "    print('File is compressed and size of file is :',sys.getsizeof(compressed_string))\n",
    "    decomp = zlib.decompress(compressed_string)\n",
    "    print(\"The compressed string is now decompressed and size is : \",sys.getsizeof(decomp))\n",
    "\n",
    "\n",
    "\n",
    "\n"
   ]
  },
  {
   "cell_type": "code",
   "execution_count": 105,
   "metadata": {},
   "outputs": [
    {
     "name": "stdout",
     "output_type": "stream",
     "text": [
      "File is compressed and size of file is : 56\n",
      "The compressed string is now decompressed and size is :  81\n"
     ]
    }
   ],
   "source": [
    "compress_decompress(\"hello world!hello world!hello world!hello world!\")"
   ]
  },
  {
   "cell_type": "markdown",
   "metadata": {},
   "source": [
    "Question 6:\n",
    "Please write a binary search function which searches an item in a sorted list. The function should return the index of element to be searched in the list.\n"
   ]
  },
  {
   "cell_type": "code",
   "execution_count": 122,
   "metadata": {},
   "outputs": [],
   "source": [
    "def my_binary_search(l_sorted=[],n=None):\n",
    "    '''Binary Search divides the list in two halves and checks if the item is present in either halfs and rejects the other, \n",
    "        and created a new search area out of the selected half untill the searched item takes the place of mid'''\n",
    "    success = False\n",
    "    low = 0\n",
    "    mid = 0\n",
    "    high = len(l_sorted)-1\n",
    "    while low<=high:#iterating to last possible range\n",
    "        mid = (high-low)//2 #returns the floor number or the roundoff number if its a float\n",
    "        if l_sorted[mid] < n:#if n is greated that current mid, then ignore lower half\n",
    "            #new low will be a step ahead of mid\n",
    "            low = mid + 1\n",
    "        elif l_sorted[mid] > n: #ignore the high half\n",
    "            high = mid -1\n",
    "        else:\n",
    "            success = True\n",
    "            return f\"The location of {n} in given list is : {mid}\" #run the while loop untill the mid is the location of searched number\n",
    "        \n",
    "        return f\"Search Status : {success}\"\n",
    "\n",
    "        \n",
    "\n",
    "\n"
   ]
  },
  {
   "cell_type": "code",
   "execution_count": 123,
   "metadata": {},
   "outputs": [
    {
     "data": {
      "text/plain": [
       "'The location of 102 in given list is : 9'"
      ]
     },
     "execution_count": 123,
     "metadata": {},
     "output_type": "execute_result"
    }
   ],
   "source": [
    "input_l = [1,2,3,4,5,6,77,88,99,102,111,154,188,200,221,265,272,285,293]\n",
    "my_binary_search(input_l,102)"
   ]
  },
  {
   "cell_type": "code",
   "execution_count": 124,
   "metadata": {},
   "outputs": [
    {
     "data": {
      "text/plain": [
       "'Search Status : False'"
      ]
     },
     "execution_count": 124,
     "metadata": {},
     "output_type": "execute_result"
    }
   ],
   "source": [
    "my_binary_search(input_l,90)"
   ]
  },
  {
   "cell_type": "code",
   "execution_count": null,
   "metadata": {},
   "outputs": [],
   "source": []
  }
 ],
 "metadata": {
  "interpreter": {
   "hash": "e449e2464aa6784a7c762a4a40d023d951a287ecae2dad782490be59e801086b"
  },
  "kernelspec": {
   "display_name": "Python 3.8.8 64-bit ('base': conda)",
   "language": "python",
   "name": "python3"
  },
  "language_info": {
   "codemirror_mode": {
    "name": "ipython",
    "version": 3
   },
   "file_extension": ".py",
   "mimetype": "text/x-python",
   "name": "python",
   "nbconvert_exporter": "python",
   "pygments_lexer": "ipython3",
   "version": "3.8.8"
  },
  "orig_nbformat": 4
 },
 "nbformat": 4,
 "nbformat_minor": 2
}
