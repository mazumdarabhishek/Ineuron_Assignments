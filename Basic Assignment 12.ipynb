{
 "cells": [
  {
   "cell_type": "markdown",
   "metadata": {},
   "source": [
    "1.\tWrite a Python program to Extract Unique values dictionary values?\n",
    "2.\tWrite a Python program to find the sum of all items in a dictionary?\n",
    "3.\tWrite a Python program to Merging two Dictionaries?\n",
    "4.\tWrite a Python program to convert key-values list to flat dictionary?\n",
    "5.\tWrite a Python program to insertion at the beginning in OrderedDict?\n",
    "6.\tWrite a Python program to check order of character in string using OrderedDict()?\n",
    "7.\tWrite a Python program to sort Python Dictionaries by Key or Value?\n"
   ]
  },
  {
   "cell_type": "code",
   "execution_count": 103,
   "metadata": {},
   "outputs": [],
   "source": [
    "from itertools import product\n",
    "from collections import OrderedDict\n",
    "class assignment_12:\n",
    "    def extract_unique(dic = {}):\n",
    "        '''dic = Dictionary,\n",
    "        returns unique values in a dictionary'''\n",
    "        uniques = []\n",
    "        for values in dic.values():\n",
    "            if values in uniques:\n",
    "                continue\n",
    "            else:\n",
    "                uniques.append(values)\n",
    "        return uniques\n",
    "    \n",
    "    def sum_items(dic = {}):\n",
    "        '''This function returns the sum of all the values '''\n",
    "        sum =0\n",
    "        try:\n",
    "            for val in dic.values():\n",
    "                sum += val\n",
    "            print(f\"sum of all items = {sum}\")\n",
    "        except Exception as e:\n",
    "            print(e)\n",
    "            print(\"Enter a dictionary with numeric values\")\n",
    "    \n",
    "    def merging_dictionaries(dic_1={},dic_2={}):\n",
    "        '''This function returns a merge of two dictionaries'''\n",
    "        return f\"New mergeded dictionary is : {merge(dic_1,dic_2)} \"\n",
    "    \n",
    "    def flat_dictionary(dic={}):\n",
    "        '''returns flattend dictionary out of list of key and value input'''\n",
    "        print(f'inserted dictionary is :  \\n {dic.items()}')\n",
    "        flattened_dic = dict(zip(dic['keys'],dic['values']))\n",
    "        return 'Flattened Dictionary is :', flattened_dic.items()\n",
    "\n",
    "    \n",
    "    def insert_first(val,dic={}):\n",
    "        '''inserts value at first position in an ordered dictionary'''\n",
    "        c = list(dic.keys())[-1]\n",
    "        while(c>0):\n",
    "            if c==1:\n",
    "                dic[c+1] = dic[c]\n",
    "                dic[c] = val\n",
    "            else:\n",
    "                dic[c+1] = dic[c]\n",
    "                c -=1\n",
    "        return \"New updated Dictionary after inserting value is : \\n\"+dic.items()\n",
    "    \n",
    "    def char_order(l,ordr=''):\n",
    "        '''l = list, ordr = order, returns a bolean if order is true or not'''\n",
    "        success = False\n",
    "        dic = OrderedDict.fromkeys(l)\n",
    "        #this stores the position as vlaues for each index of list are key in a dictionary\n",
    "        counts = 0\n",
    "        for i in dic.keys():\n",
    "            try:\n",
    "                if i == ordr[j]:\n",
    "                    #This encounters the first occurance of first argument in the order\n",
    "                    counts +=1\n",
    "            except:       \n",
    "                if(counts == len(ordr)):\n",
    "                    success = True\n",
    "                    return success\n",
    "                else:\n",
    "                    continue\n",
    "            return success\n",
    "    \n",
    "    def sort_dictionary(dic={}):\n",
    "        '''sorts a dictionary either by keys or values'''\n",
    "        for keys in dic.keys():\n",
    "            if type(keys) == int:\n",
    "                break\n",
    "            else:\n",
    "                sorted_with_values={k: v for k, v in sorted(dic.items(), key=lambda item: item[1])}\n",
    "                print(sorted_with_values)\n",
    "                break\n",
    "\n",
    "        sorted_with_keys = OrderedDict(sorted(dic.items()))\n",
    "        print(sorted_with_keys)\n",
    "\n",
    "\n",
    "\n",
    "\n",
    "\n",
    "\n",
    "\n"
   ]
  },
  {
   "cell_type": "code",
   "execution_count": 104,
   "metadata": {},
   "outputs": [
    {
     "name": "stdout",
     "output_type": "stream",
     "text": [
      "inserted dictionary is :  \n",
      " dict_items([('keys', [1, 2, 3, 4]), ('values', ['one', 'two', 'three', 'four'])])\n"
     ]
    },
    {
     "data": {
      "text/plain": [
       "('Flattened Dictionary is :',\n",
       " dict_items([(1, 'one'), (2, 'two'), (3, 'three'), (4, 'four')]))"
      ]
     },
     "execution_count": 104,
     "metadata": {},
     "output_type": "execute_result"
    }
   ],
   "source": [
    "x = {\n",
    "    'keys':[1,2,3,4],\n",
    "    'values':['one','two','three','four']\n",
    "}\n",
    "b = assignment_12\n",
    "b.flat_dictionary(x)"
   ]
  },
  {
   "cell_type": "code",
   "execution_count": 105,
   "metadata": {},
   "outputs": [
    {
     "data": {
      "text/plain": [
       "['wow', 'yo', 'th', '5']"
      ]
     },
     "execution_count": 105,
     "metadata": {},
     "output_type": "execute_result"
    }
   ],
   "source": [
    "x = {1:\"wow\",2:\"yo\",3:\"th\",4:\"5\",5:\"wow\",6:\"yo\",7:\"th\"}\n",
    "o = assignment_12\n",
    "o.extract_unique(x)"
   ]
  },
  {
   "cell_type": "code",
   "execution_count": 106,
   "metadata": {},
   "outputs": [
    {
     "data": {
      "text/plain": [
       "False"
      ]
     },
     "execution_count": 106,
     "metadata": {},
     "output_type": "execute_result"
    }
   ],
   "source": [
    "\n",
    "x = {1:\"wow\",2:\"yo\",3:\"th\",4:\"5\",5:\"wow\",6:\"yo\",}\n",
    "l = \"this is what life is \"\n",
    "dd = \"it\"\n",
    "o.char_order(l,dd)\n",
    "\n",
    "\n",
    "    "
   ]
  },
  {
   "cell_type": "code",
   "execution_count": 108,
   "metadata": {},
   "outputs": [
    {
     "name": "stdout",
     "output_type": "stream",
     "text": [
      "{'one': 1, 'two': 2, 'three': 3, 'five': 5}\n",
      "OrderedDict([('five', 5), ('one', 1), ('three', 3), ('two', 2)])\n"
     ]
    }
   ],
   "source": [
    "d = {3:\"th\",6:\"yo\",1:\"wow\"}\n",
    "dd = {\"one\":1,\"three\":3,\"five\":5,\"two\":2}\n",
    "\n",
    "o.sort_dictionary(dd)\n",
    "      \n",
    "    \n",
    "\n",
    "\n"
   ]
  }
 ],
 "metadata": {
  "interpreter": {
   "hash": "e449e2464aa6784a7c762a4a40d023d951a287ecae2dad782490be59e801086b"
  },
  "kernelspec": {
   "display_name": "Python 3.8.8 64-bit ('base': conda)",
   "language": "python",
   "name": "python3"
  },
  "language_info": {
   "codemirror_mode": {
    "name": "ipython",
    "version": 3
   },
   "file_extension": ".py",
   "mimetype": "text/x-python",
   "name": "python",
   "nbconvert_exporter": "python",
   "pygments_lexer": "ipython3",
   "version": "3.8.8"
  },
  "orig_nbformat": 4
 },
 "nbformat": 4,
 "nbformat_minor": 2
}
