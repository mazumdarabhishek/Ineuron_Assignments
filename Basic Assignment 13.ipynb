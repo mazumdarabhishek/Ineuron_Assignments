{
 "cells": [
  {
   "cell_type": "markdown",
   "metadata": {},
   "source": [
    "Question 1:\n",
    "\n",
    "Write a program that calculates and prints the value according to the given formula:\n",
    "\n",
    "Q = Square root of [(2 * C * D)/H]\n",
    "\n",
    "Following are the fixed values of C and H:\n",
    "\n",
    "C is 50. H is 30.\n",
    "\n",
    "D is the variable whose values should be input to your program in a comma-separated sequence.\n",
    "\n",
    "Example\n",
    "\n",
    "Let us assume the following comma separated input sequence is given to the program:\n",
    "\n",
    "100,150,180\n",
    "\n",
    "The output of the program should be:\n",
    "\n",
    "18,22,24\n"
   ]
  },
  {
   "cell_type": "code",
   "execution_count": 15,
   "metadata": {},
   "outputs": [],
   "source": [
    "\n",
    "import math\n",
    "def calc_Q():\n",
    "    '''calculates Q= sqrt[(2*C*D)/H] for given three inputs of D'''\n",
    "    D_list = [int(D) for D in input (\"please input three number for D : \").split(',')]\n",
    "    C = 50\n",
    "    H = 30\n",
    "    result = []\n",
    "    for D in D_list:\n",
    "        expression = (2*C*int(D))/H\n",
    "        result.append(math.sqrt(expression))\n",
    "    return f\"{round(float(result[0]),2)},{round(float(result[1]),2)},{round(float(result[2]),2)}\"\n",
    "    \n"
   ]
  },
  {
   "cell_type": "code",
   "execution_count": 19,
   "metadata": {},
   "outputs": [
    {
     "name": "stdout",
     "output_type": "stream",
     "text": [
      "4.08,4.47,4.83\n"
     ]
    }
   ],
   "source": [
    "#D input was 5,6,7\n",
    "r = calc_Q()\n",
    "print(r)"
   ]
  },
  {
   "cell_type": "markdown",
   "metadata": {},
   "source": [
    "Question 2:\n",
    "Write a program which takes 2 digits, X,Y as input and generates a 2-dimensional array. The element value in the i-th row and j-th column of the array should be i*j.\n",
    "\n",
    "Note: i=0,1.., X-1; j=0,1,¡¬Y-1.\n",
    "\n",
    "Example\n",
    "\n",
    "Suppose the following inputs are given to the program:\n",
    "\n",
    "3,5\n",
    "\n",
    "Then, the output of the program should be:\n",
    "\n",
    "[[0, 0, 0, 0, 0], [0, 1, 2, 3, 4], [0, 2, 4, 6, 8]] \n"
   ]
  },
  {
   "cell_type": "code",
   "execution_count": 26,
   "metadata": {},
   "outputs": [],
   "source": [
    "import numpy as np\n",
    "def special_matrix(X,Y):\n",
    "    '''returns a array with element value equals to i*j'''\n",
    "    temp_array = np.zeros((X,Y))\n",
    "    for row in range(len(temp_array)):\n",
    "        for column in range(len(temp_array[0])):\n",
    "            temp_array[row,column] = row*column\n",
    "    return temp_array\n",
    "            \n",
    "\n"
   ]
  },
  {
   "cell_type": "code",
   "execution_count": 27,
   "metadata": {},
   "outputs": [
    {
     "data": {
      "text/plain": [
       "array([[0., 0., 0., 0., 0.],\n",
       "       [0., 1., 2., 3., 4.],\n",
       "       [0., 2., 4., 6., 8.]])"
      ]
     },
     "execution_count": 27,
     "metadata": {},
     "output_type": "execute_result"
    }
   ],
   "source": [
    "special_matrix(3,5)\n"
   ]
  },
  {
   "cell_type": "markdown",
   "metadata": {},
   "source": [
    "Question 3:\n",
    "Write a program that accepts a comma separated sequence of words as input and prints the words in a comma-separated sequence after sorting them alphabetically.\n",
    "\n",
    "Suppose the following input is supplied to the program:\n",
    "\n",
    "without,hworldello,bag,\n",
    "\n",
    "Then, the output should be:\n",
    "\n",
    "bag,hello,without,world\n"
   ]
  },
  {
   "cell_type": "code",
   "execution_count": 69,
   "metadata": {},
   "outputs": [],
   "source": [
    "def alpha_sequence():\n",
    "    '''return a string with words in alphabetical order '''\n",
    "\n",
    "    st = ''\n",
    "    temp_list = [s for s in input(\"please enter words :\").split(',')]\n",
    "    temp_list.sort()\n",
    "    for i in range(len(temp_list)):\n",
    "        z = (len(temp_list)-1)-i\n",
    "        h = lambda z : 1 if(z>0 or z==len(temp_list)) else 0\n",
    "        z = h(z)\n",
    "        st += f'{temp_list[i]}'+','*z\n",
    "    return st\n",
    "      "
   ]
  },
  {
   "cell_type": "code",
   "execution_count": 70,
   "metadata": {},
   "outputs": [
    {
     "data": {
      "text/plain": [
       "'bag,hworldello,without'"
      ]
     },
     "execution_count": 70,
     "metadata": {},
     "output_type": "execute_result"
    }
   ],
   "source": [
    "alpha_sequence()\n"
   ]
  },
  {
   "cell_type": "markdown",
   "metadata": {},
   "source": [
    "Question 4:\n",
    "Write a program that accepts a sequence of whitespace separated words as input and prints the words after removing all duplicate words and sorting them alphanumerically.\n",
    "\n",
    "Suppose the following input is supplied to the program:\n",
    "\n",
    "hello world and practice makes perfect and hello world again\n",
    "\n",
    "Then, the output should be:\n",
    "\n",
    "again and hello makes perfect practice world\n",
    "\n"
   ]
  },
  {
   "cell_type": "code",
   "execution_count": null,
   "metadata": {},
   "outputs": [],
   "source": [
    "def sort_words_alphanumerically():\n",
    "    temp_list = [i for i in input(\"enter words with white space :\").split(' ')]\n",
    "    no_dup = []\n",
    "    for words in temp_list:\n",
    "        if words in no_dup:\n",
    "            continue\n",
    "        else:\n",
    "            no_dup.append(words)\n",
    "    fl =[]\n",
    "    for i in no_dup:\n",
    "        fl.append(i[0])\n",
    "\n",
    "    ascii = []\n",
    "    for i in fl:\n",
    "        ascii.append(ord(i))\n",
    "    tup = zip(ascii,fl,no_dup)\n",
    "    t = []\n",
    "    for i in tup:\n",
    "        t.append(i)\n",
    "    \n",
    "\n",
    "    \n",
    "\n",
    "    \n",
    "\n",
    "    \n",
    "\n"
   ]
  },
  {
   "cell_type": "code",
   "execution_count": 131,
   "metadata": {},
   "outputs": [
    {
     "data": {
      "text/plain": [
       "'and again hello makes perfect practice world '"
      ]
     },
     "execution_count": 131,
     "metadata": {},
     "output_type": "execute_result"
    }
   ],
   "source": []
  },
  {
   "cell_type": "markdown",
   "metadata": {},
   "source": [
    "Question 5:\n",
    "Write a program that accepts a sentence and calculate the number of letters and digits.\n",
    "\n",
    "Suppose the following input is supplied to the program:\n",
    "\n",
    "hello world! 123\n",
    "\n",
    "Then, the output should be:\n",
    "\n",
    "LETTERS 10\n",
    "\n",
    "DIGITS 3\n",
    "\n",
    "\n"
   ]
  },
  {
   "cell_type": "code",
   "execution_count": 12,
   "metadata": {},
   "outputs": [],
   "source": [
    "def count_alpha_n_num(input = ''):\n",
    "    num,strng = 0,0\n",
    "    special_chars = \"!@#$%^&*)(></?:;}{][\\|\"\n",
    "    for i in input:\n",
    "        try:\n",
    "            x = int(i)\n",
    "            num +=1\n",
    "        except:\n",
    "            if i == ' ' or i in special_chars:\n",
    "                continue\n",
    "            else:\n",
    "                strng +=1\n",
    "    print(f\"LETTERS : {strng}\\n\")\n",
    "    print(f\"DIGITS : {num}\")\n",
    "    \n"
   ]
  },
  {
   "cell_type": "code",
   "execution_count": 13,
   "metadata": {},
   "outputs": [
    {
     "name": "stdout",
     "output_type": "stream",
     "text": [
      "LETTERS : 27\n",
      "\n",
      "DIGITS : 4\n"
     ]
    }
   ],
   "source": [
    "count_alpha_n_num('I like Ineuron 2021 fsds batch @ online ')"
   ]
  },
  {
   "cell_type": "markdown",
   "metadata": {},
   "source": [
    "Question 6:\n",
    "A website requires the users to input username and password to register. Write a program to check the validity of password input by users.\n",
    "\n",
    "Following are the criteria for checking the password:\n",
    "\n",
    "1. At least 1 letter between [a-z]\n",
    "\n",
    "2. At least 1 number between [0-9]\n",
    "\n",
    "1. At least 1 letter between [A-Z]\n",
    "\n",
    "3. At least 1 character from [$#@]\n",
    "\n",
    "4. Minimum length of transaction password: 6\n",
    "\n",
    "5. Maximum length of transaction password: 12\n",
    "\n",
    "Your program should accept a sequence of comma separated passwords and will check them according to the above criteria. Passwords that match the criteria are to be printed, each separated by a comma.\n",
    "\n",
    "Example\n",
    "\n",
    "If the following passwords are given as input to the program:\n",
    "\n",
    "ABd1234@1,a F1#,2w3E*,2We3345\n",
    "\n",
    "Then, the output of the program should be:\n",
    "\n",
    "ABd1234@1"
   ]
  },
  {
   "cell_type": "code",
   "execution_count": 42,
   "metadata": {},
   "outputs": [],
   "source": [
    "\n",
    "import re\n",
    "def pass_validation(password_choices):\n",
    "    passwords = [p for p in password_choices.split(',')]\n",
    "    flag = 0\n",
    "    for password in passwords:\n",
    "        flag = 0\n",
    "        \n",
    "        while True:\n",
    "            if(len(password)<6 or len(password)>12):\n",
    "                flag = 1\n",
    "                break\n",
    "            elif not re.search(\"[$#@]\",password):\n",
    "                flag = 1\n",
    "                break\n",
    "            elif not re.search(\"[A-Z]\",password):\n",
    "                flag =1\n",
    "                break\n",
    "            elif not re.search(\"[0-9]\",password):\n",
    "                flag = 1\n",
    "                break\n",
    "            elif not re.search(\"[a-z]\",password):\n",
    "                flag =1\n",
    "                break\n",
    "            else:\n",
    "                print(password)\n",
    "                break\n",
    "        \n",
    "        \n",
    "        if flag==1:\n",
    "            continue\n",
    "\n",
    "\n",
    "\n",
    "\n",
    "    \n",
    "\n",
    "                        \n",
    "\n"
   ]
  },
  {
   "cell_type": "code",
   "execution_count": 43,
   "metadata": {},
   "outputs": [
    {
     "name": "stdout",
     "output_type": "stream",
     "text": [
      "ABd1234@1\n"
     ]
    }
   ],
   "source": [
    "pass_validation('ABd1234@1,a F1#,2w3E*,2We3345')"
   ]
  },
  {
   "cell_type": "code",
   "execution_count": null,
   "metadata": {},
   "outputs": [],
   "source": []
  },
  {
   "cell_type": "code",
   "execution_count": null,
   "metadata": {},
   "outputs": [],
   "source": []
  }
 ],
 "metadata": {
  "interpreter": {
   "hash": "e449e2464aa6784a7c762a4a40d023d951a287ecae2dad782490be59e801086b"
  },
  "kernelspec": {
   "display_name": "Python 3.8.8 64-bit ('base': conda)",
   "language": "python",
   "name": "python3"
  },
  "language_info": {
   "codemirror_mode": {
    "name": "ipython",
    "version": 3
   },
   "file_extension": ".py",
   "mimetype": "text/x-python",
   "name": "python",
   "nbconvert_exporter": "python",
   "pygments_lexer": "ipython3",
   "version": "3.8.8"
  },
  "orig_nbformat": 4
 },
 "nbformat": 4,
 "nbformat_minor": 2
}
