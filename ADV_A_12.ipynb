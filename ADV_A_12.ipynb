{
 "cells": [
  {
   "cell_type": "markdown",
   "metadata": {},
   "source": [
    "1. Examples\n",
    "\n",
    "meme_sum(26, 39) ➞ 515\n",
    " 2+3 = 5, 6+9 = 15\n",
    " 26 + 39 = 515\n",
    "\n",
    "meme_sum(122, 81) ➞ 1103\n",
    " 1+0 = 1, 2+8 = 10, 2+1 = 3\n",
    " 122 + 81 = 1103\n",
    "\n",
    "meme_sum(1222, 30277) ➞ 31499\n",
    "\n",
    "\n"
   ]
  },
  {
   "cell_type": "code",
   "execution_count": 1,
   "metadata": {},
   "outputs": [],
   "source": [
    "import math\n",
    "def meme_sum(num_1,num_2):\n",
    "    result = ''\n",
    "    l1 = [i for i in str(num_1)]\n",
    "    l2 = [i for i in str(num_2)]\n",
    "    len_1 = len(l1)\n",
    "    len_2 = len(l2)\n",
    "    if len_1>len_2:\n",
    "        delta = len_1 - len_2\n",
    "        for i in range(delta):\n",
    "            l2.insert(0,'0')\n",
    "        for i,j in zip(l1,l2):\n",
    "            sum = int(i) + int(j)\n",
    "            result += str(sum)\n",
    "    elif len_1<len_2:\n",
    "        delta = len_2 - len_1\n",
    "        for i in range(delta):\n",
    "            l1.insert(0,'0')\n",
    "        for i,j in zip(l1,l2):\n",
    "            sum = int(i) + int(j)\n",
    "            result += str(sum)\n",
    "    elif len_1 == len_2:\n",
    "        for i,j in zip(l1,l2):\n",
    "            sum = int(i) + int(j)\n",
    "            result += str(sum)\n",
    "\n",
    "    return int(result) \n",
    "\n",
    "\n",
    "\n",
    "   \n"
   ]
  },
  {
   "cell_type": "code",
   "execution_count": 2,
   "metadata": {},
   "outputs": [
    {
     "data": {
      "text/plain": [
       "1103"
      ]
     },
     "execution_count": 2,
     "metadata": {},
     "output_type": "execute_result"
    }
   ],
   "source": [
    "meme_sum(122,81)"
   ]
  },
  {
   "cell_type": "markdown",
   "metadata": {},
   "source": [
    "2. Given an integer, create a function that returns the next prime. If the number is prime, return the number itself."
   ]
  },
  {
   "cell_type": "code",
   "execution_count": 3,
   "metadata": {},
   "outputs": [],
   "source": [
    "def next_prime(num):\n",
    "    prime = True\n",
    "    if num == 0 or num ==1:\n",
    "        return 2\n",
    "    else:\n",
    "        try:\n",
    "            for i in range(2,num):\n",
    "                if num%i == 0:\n",
    "                    prime = False\n",
    "                    break\n",
    "                    \n",
    "            if prime:\n",
    "                return num\n",
    "            else:\n",
    "                n = num + 1\n",
    "                prime = True\n",
    "                for i in range(2,n):\n",
    "                    if (n%i==0):\n",
    "                        n +=1\n",
    "                else:\n",
    "                    return n\n",
    "        except Exception as e:\n",
    "            return e\n",
    "        \n",
    "\n"
   ]
  },
  {
   "cell_type": "code",
   "execution_count": 4,
   "metadata": {},
   "outputs": [
    {
     "name": "stdout",
     "output_type": "stream",
     "text": [
      "13\n",
      "11\n"
     ]
    }
   ],
   "source": [
    " ans =next_prime(12)\n",
    " print(ans)\n",
    " ans = next_prime(11)\n",
    " print(ans)"
   ]
  },
  {
   "cell_type": "markdown",
   "metadata": {},
   "source": [
    "3. If a person traveled up a hill for 18mins at 20mph and then traveled back down the same path at 60mph then their average speed traveled was 30mph.\n",
    "\n",
    "Write a function that returns the average speed traveled given an uphill time, uphill rate and a downhill rate. Uphill time is given in minutes. Return the rate as an integer (mph). No rounding is necessary.\n",
    "\n",
    "Examples\n",
    "\n",
    "ave_spd(18, 20, 60) ➞ 30\n",
    "\n",
    "ave_spd(30, 10, 30) ➞ 15\n",
    "\n",
    "ave_spd(30, 8, 24) ➞ 12\n"
   ]
  },
  {
   "cell_type": "code",
   "execution_count": 5,
   "metadata": {},
   "outputs": [],
   "source": [
    "def ave_speed(time,av1,av2):\n",
    "    distance = 2 * ((time/60) * av1)\n",
    "    down_hill_time = (distance/2)/av2\n",
    "    total_time = (time/60) + down_hill_time\n",
    "    avg_speed = distance/total_time\n",
    "    return avg_speed\n",
    "    \n",
    "\n"
   ]
  },
  {
   "cell_type": "code",
   "execution_count": 6,
   "metadata": {},
   "outputs": [
    {
     "data": {
      "text/plain": [
       "15.0"
      ]
     },
     "execution_count": 6,
     "metadata": {},
     "output_type": "execute_result"
    }
   ],
   "source": [
    "ave_speed(30, 10, 30)\n"
   ]
  },
  {
   "cell_type": "markdown",
   "metadata": {},
   "source": [
    "4. The Kempner Function, applied to a composite number, permits to find the smallest integer greater than zero whose factorial is exactly divided by the number.\n",
    "\n",
    "kempner(6) ➞ 3\n",
    "\n",
    "1! = 1 % 6 > 0\n",
    "2! = 2 % 6 > 0\n",
    "3! = 6 % 6 === 0\n",
    "\n",
    "kempner(10) ➞ 5\n",
    "\n",
    "1! = 1 % 10 > 0\n",
    "2! = 2 % 10 > 0\n",
    "3! = 6 % 10 > 0\n",
    "4! = 24 % 10 > 0\n",
    "5! = 120 % 10 === 0\n",
    "\n",
    "A Kempner Function applied to a prime will always return the prime itself.\n",
    "\n",
    "kempner(2) ➞ 2\n"
   ]
  },
  {
   "cell_type": "code",
   "execution_count": 7,
   "metadata": {},
   "outputs": [],
   "source": [
    "def kempner(num):\n",
    "    prime = True\n",
    "    if num == 1:\n",
    "        return 1\n",
    "    elif num == 2:\n",
    "        return 2\n",
    "    elif num > 2:\n",
    "        for i in range(2,num):\n",
    "            if num%i == 0:\n",
    "                prime = False\n",
    "                break\n",
    "        else:\n",
    "            return num\n",
    "        if prime==False:\n",
    "            for i in range(2,num):\n",
    "                div = math.factorial(i)\n",
    "                if div%num ==0:\n",
    "                    return i \n",
    "            else:\n",
    "                return None\n",
    "        \n",
    "    else:\n",
    "        return \"invalid input\"\n",
    "\n",
    "            \n"
   ]
  },
  {
   "cell_type": "code",
   "execution_count": 8,
   "metadata": {},
   "outputs": [
    {
     "data": {
      "text/plain": [
       "3"
      ]
     },
     "execution_count": 8,
     "metadata": {},
     "output_type": "execute_result"
    }
   ],
   "source": [
    "kempner(6)"
   ]
  },
  {
   "cell_type": "markdown",
   "metadata": {},
   "source": [
    "5. You work in a factory, and your job is to take items from a conveyor belt and pack them into boxes. Each box can hold a maximum of 10 kgs. Given a list containing the weight (in kg) of each item, how many boxes would you need to pack all of the items?\n",
    "\n",
    "Example\n",
    "\n",
    "boxes([2, 1, 2, 5, 4, 3, 6, 1, 1, 9, 3, 2]) ➞ 5\n",
    "\n",
    "#Box 1 = [2, 1, 2, 5] (10kg)\n",
    "#Box 2 = [4, 3] (7kg)\n",
    "#Box 3 = [6, 1, 1] (8kg)\n",
    "#Box 4 = [9] (9kg)\n",
    "#Box 5 = [3, 2] (5kg)\n"
   ]
  },
  {
   "cell_type": "code",
   "execution_count": 13,
   "metadata": {},
   "outputs": [],
   "source": [
    "def boxes(l=[]):\n",
    "    \n",
    "    temp_sum = 0\n",
    "    box= 0\n",
    "    count = 0\n",
    "    for i in l:\n",
    "        count += 1\n",
    "        temp_sum += i\n",
    "        if temp_sum > 10:\n",
    "            box += 1\n",
    "            temp_sum = 0\n",
    "            temp_sum = i\n",
    "        elif count == len(l):\n",
    "            box +=1\n",
    "            \n",
    "    return box"
   ]
  },
  {
   "cell_type": "code",
   "execution_count": 14,
   "metadata": {},
   "outputs": [
    {
     "data": {
      "text/plain": [
       "5"
      ]
     },
     "execution_count": 14,
     "metadata": {},
     "output_type": "execute_result"
    }
   ],
   "source": [
    "boxes([2, 1, 2, 5, 4, 3, 6, 1, 1, 9, 3, 2])"
   ]
  },
  {
   "cell_type": "code",
   "execution_count": null,
   "metadata": {},
   "outputs": [],
   "source": []
  }
 ],
 "metadata": {
  "interpreter": {
   "hash": "e449e2464aa6784a7c762a4a40d023d951a287ecae2dad782490be59e801086b"
  },
  "kernelspec": {
   "display_name": "Python 3.8.8 64-bit ('base': conda)",
   "language": "python",
   "name": "python3"
  },
  "language_info": {
   "codemirror_mode": {
    "name": "ipython",
    "version": 3
   },
   "file_extension": ".py",
   "mimetype": "text/x-python",
   "name": "python",
   "nbconvert_exporter": "python",
   "pygments_lexer": "ipython3",
   "version": "3.8.8"
  },
  "orig_nbformat": 4
 },
 "nbformat": 4,
 "nbformat_minor": 2
}
