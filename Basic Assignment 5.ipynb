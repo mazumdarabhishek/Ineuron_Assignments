{
 "cells": [
  {
   "cell_type": "markdown",
   "id": "7d170315",
   "metadata": {},
   "source": [
    "1.\tWrite a Python Program to Find LCM?\n",
    "2.\tWrite a Python Program to Find HCF?\n",
    "3.\tWrite a Python Program to Convert Decimal to Binary, Octal and Hexadecimal?\n",
    "4.\tWrite a Python Program To Find ASCII value of a character?\n",
    "5.\tWrite a Python Program to Make a Simple Calculator with 4 basic mathematical operations?\n",
    "\n",
    "\n",
    "*I will be using a class to difine all these method and then call any method for result*"
   ]
  },
  {
   "cell_type": "code",
   "execution_count": 27,
   "id": "16f93d61",
   "metadata": {},
   "outputs": [],
   "source": [
    "class asssignment_5():\n",
    "        \n",
    "    def LCM(self,num1,num2):\n",
    "        if num1>num2:\n",
    "            big = num1\n",
    "        else:\n",
    "            big = num2\n",
    "        while(True):\n",
    "            if((big % num1 == 0) and (big % num2 == 0)):\n",
    "                lcm = big\n",
    "                break\n",
    "            big += 1\n",
    "\n",
    "        return lcm\n",
    "    \n",
    "    def HCF(self,num1,num2):\n",
    "        if num1 > num2:\n",
    "            smaller = num2\n",
    "        else:\n",
    "            smaller = num1\n",
    "        for i in range(1, smaller+1):\n",
    "            if((num1 % i == 0) and (num2 % i == 0)):\n",
    "                hcf = i \n",
    "        return hcf\n",
    "    \n",
    "    def cont_bin_octa_hexa(self,num):\n",
    "        print(f\"input number is : {num}\",'\\n','-'*25)\n",
    "        print(f\"binary version is: {bin(num)}\")\n",
    "        print(f\"hexadesimal version is: {hex(num)}\")\n",
    "        print(f\"octadecimal version is : {oct(num)}\")\n",
    "    def ASCII_(self,charc):\n",
    "        print(f\"the ASCII value of alphabet {charc} is {ord(charc)}\")\n",
    "    def calculator(self,operator,num1,num2):\n",
    "        if operator == 'add':\n",
    "            print(f\"{num1} + {num2} = {num1+num2}\")\n",
    "        elif operator == 'sub':\n",
    "            print(f\"{num1} - {num2} = {num1-num2}\")\n",
    "        elif operator == 'div':\n",
    "            print(f\"{num1} / {num2} = {num1/num2}\")\n",
    "        elif operator == 'mult':\n",
    "            print(f\"{num1} X {num2} = {num1*num2}\")\n",
    "        "
   ]
  },
  {
   "cell_type": "code",
   "execution_count": 28,
   "id": "9bb50e05",
   "metadata": {},
   "outputs": [
    {
     "data": {
      "text/plain": [
       "10"
      ]
     },
     "execution_count": 28,
     "metadata": {},
     "output_type": "execute_result"
    }
   ],
   "source": [
    "opr = asssignment_5()\n",
    "opr.LCM(20,30)\n",
    "opr.HCF(20,30)"
   ]
  },
  {
   "cell_type": "code",
   "execution_count": 29,
   "id": "8a54ed8d",
   "metadata": {},
   "outputs": [
    {
     "name": "stdout",
     "output_type": "stream",
     "text": [
      "input number is : 144 \n",
      " -------------------------\n",
      "binary version is: 0b10010000\n",
      "hexadesimal version is: 0x90\n",
      "octadecimal version is : 0o220\n"
     ]
    }
   ],
   "source": [
    "opr.cont_bin_octa_hexa(144)"
   ]
  },
  {
   "cell_type": "code",
   "execution_count": 30,
   "id": "2cc9d4d1",
   "metadata": {},
   "outputs": [
    {
     "name": "stdout",
     "output_type": "stream",
     "text": [
      "the ASCII value of alphabet a is 97\n"
     ]
    }
   ],
   "source": [
    "opr.ASCII_('a')"
   ]
  },
  {
   "cell_type": "code",
   "execution_count": null,
   "id": "2dde869e",
   "metadata": {
    "collapsed": true
   },
   "outputs": [],
   "source": [
    "opr.calculator(mult)"
   ]
  }
 ],
 "metadata": {
  "kernelspec": {
   "display_name": "Python 3",
   "language": "python",
   "name": "python3"
  },
  "language_info": {
   "codemirror_mode": {
    "name": "ipython",
    "version": 3
   },
   "file_extension": ".py",
   "mimetype": "text/x-python",
   "name": "python",
   "nbconvert_exporter": "python",
   "pygments_lexer": "ipython3",
   "version": "3.8.8"
  }
 },
 "nbformat": 4,
 "nbformat_minor": 5
}
