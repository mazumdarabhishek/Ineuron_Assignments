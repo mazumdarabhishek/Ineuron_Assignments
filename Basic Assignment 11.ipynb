{
 "cells": [
  {
   "cell_type": "markdown",
   "metadata": {},
   "source": [
    "1.\tWrite a Python program to find words which are greater than given length k?\n",
    "2.\tWrite a Python program for removing i-th character from a string?\n",
    "3.\tWrite a Python program to split and join a string?\n",
    "4.\tWrite a Python to check if a given string is binary string or not?\n",
    "5.\tWrite a Python program to find uncommon words from two Strings?\n",
    "6.\tWrite a Python to find all duplicate characters in string?\n",
    "7.\tWrite a Python Program to check if a string contains any special character?\n"
   ]
  },
  {
   "cell_type": "code",
   "execution_count": 142,
   "metadata": {},
   "outputs": [],
   "source": [
    "class assignment_11:\n",
    "    def greater_thn_k(word,k):\n",
    "        words = word.split()\n",
    "        for word in words:\n",
    "            if len(word)>k:\n",
    "                print(f\"The word {word} is longer than K={k}\")\n",
    "    def remove_i_th(sentence,i):\n",
    "        '''sentence = sring input, i = ith element'''\n",
    "\n",
    "        sen = sentence[:i]\n",
    "        tence = sentence[i+1:]\n",
    "        return f\"String after removing ith term is : {sen + tence}\"\n",
    "    def split_join(strng):\n",
    "        break_point =  len(strng)//2\n",
    "        half_1 = strng[:break_point]\n",
    "        half_2 = strng[break_point:]\n",
    "        print(f\"the two halves of the string are {half_1} & {half_2}\")\n",
    "        print() \n",
    "        return 'New wrongly joined string will be:'+ half_2 +' '+ half_1\n",
    "    def is_binary(strng):\n",
    "       \n",
    "        try:\n",
    "            x = int(strng,2)\n",
    "            print(f\"Yes its a binary string and it values for {x}\")\n",
    "        except:\n",
    "            print(\"Sorry, its not binary string\")\n",
    "\n",
    "    \n",
    "    def uncommon_intwostrings(strng_1,strng_2):\n",
    "        s1 = strng_1.split()\n",
    "        s2 = strng_2.split()\n",
    "        \n",
    "        c = []\n",
    "        for i in s1:\n",
    "            if i  not in  s2:\n",
    "                \n",
    "                c.append(i)\n",
    "       \n",
    "        for j in s2:\n",
    "            if j not in s1:\n",
    "                \n",
    "                c.append(j)\n",
    "        \n",
    "        return c\n",
    "\n",
    "    \n",
    "    def find_duplicates(strng):\n",
    "        duplicates = []\n",
    "        for ch in strng:\n",
    "            if strng.count(ch) == 0 or strng.count(ch)==1:\n",
    "                continue\n",
    "            else:\n",
    "                duplicates.append((ch,strng.count(ch)))\n",
    "        for dups in duplicates:\n",
    "            temp = duplicates.count(dups)\n",
    "\n",
    "            if temp>1:\n",
    "                for d in range(temp-1):\n",
    "                    duplicates.remove(dups)\n",
    "        \n",
    "        return duplicates\n",
    "    \n",
    "    def any_special_char(strng):\n",
    "        special = '''!@#$%^&*()_+=?/.><,\"':;}{[]'''\n",
    "        x =False\n",
    "        for a in strng:\n",
    "            if a in special:\n",
    "                x = True\n",
    "            else:\n",
    "                x\n",
    "        \n",
    "        return f\"contains special charater(s) : {x}\"\n",
    "\n",
    "            \n",
    "\n",
    "\n",
    "\n",
    "\n",
    "        \n",
    "                    \n",
    "\n",
    "\n",
    "\n",
    "\n",
    "\n",
    "\n",
    "    \n",
    "\n",
    "            \n",
    "        \n",
    "                \n",
    "\n"
   ]
  },
  {
   "cell_type": "code",
   "execution_count": 143,
   "metadata": {},
   "outputs": [
    {
     "name": "stdout",
     "output_type": "stream",
     "text": [
      "The word Mazumdar is longer than K=4\n"
     ]
    }
   ],
   "source": [
    "obj = assignment_11\n",
    "obj.greater_thn_k(\"Abhi Mazumdar\",4)\n",
    "\n"
   ]
  },
  {
   "cell_type": "code",
   "execution_count": 144,
   "metadata": {},
   "outputs": [
    {
     "data": {
      "text/plain": [
       "'String after removing ith term is : howare you'"
      ]
     },
     "execution_count": 144,
     "metadata": {},
     "output_type": "execute_result"
    }
   ],
   "source": [
    "obj.remove_i_th(\"how are you\",3)"
   ]
  },
  {
   "cell_type": "code",
   "execution_count": 145,
   "metadata": {},
   "outputs": [
    {
     "name": "stdout",
     "output_type": "stream",
     "text": [
      "the two halves of the string are Abhishek &  Mazumdar\n",
      "\n"
     ]
    },
    {
     "data": {
      "text/plain": [
       "'New wrongly joined string will be: Mazumdar Abhishek'"
      ]
     },
     "execution_count": 145,
     "metadata": {},
     "output_type": "execute_result"
    }
   ],
   "source": [
    "obj.split_join(\"Abhishek Mazumdar\")\n"
   ]
  },
  {
   "cell_type": "code",
   "execution_count": 146,
   "metadata": {},
   "outputs": [
    {
     "name": "stdout",
     "output_type": "stream",
     "text": [
      "Yes its a binary string and it values for 10\n"
     ]
    }
   ],
   "source": [
    "obj.is_binary('1010')"
   ]
  },
  {
   "cell_type": "code",
   "execution_count": 147,
   "metadata": {},
   "outputs": [
    {
     "data": {
      "text/plain": [
       "['are', 'you', 'to', '?', 'knows', 'whom', 'i', 'am']"
      ]
     },
     "execution_count": 147,
     "metadata": {},
     "output_type": "execute_result"
    }
   ],
   "source": [
    "obj.uncommon_intwostrings(\"who are you talking to ?\",\"who knows whom i am talking\")"
   ]
  },
  {
   "cell_type": "code",
   "execution_count": 148,
   "metadata": {},
   "outputs": [
    {
     "data": {
      "text/plain": [
       "[('a', 2),\n",
       " ('a', 2),\n",
       " ('d', 2),\n",
       " (' ', 3),\n",
       " ('w', 3),\n",
       " ('o', 2),\n",
       " ('r', 2),\n",
       " ('l', 2),\n",
       " ('d', 2)]"
      ]
     },
     "execution_count": 148,
     "metadata": {},
     "output_type": "execute_result"
    }
   ],
   "source": [
    "obj.find_duplicates(\"what a wonderful world\")\n",
    "            \n"
   ]
  },
  {
   "cell_type": "code",
   "execution_count": 149,
   "metadata": {},
   "outputs": [
    {
     "data": {
      "text/plain": [
       "'contains special charater(s) : True'"
      ]
     },
     "execution_count": 149,
     "metadata": {},
     "output_type": "execute_result"
    }
   ],
   "source": [
    "obj.any_special_char(\"jfdh;ovd pi'a'/a/kvc'pugPsk{dpfk\")"
   ]
  },
  {
   "cell_type": "code",
   "execution_count": null,
   "metadata": {},
   "outputs": [],
   "source": []
  }
 ],
 "metadata": {
  "interpreter": {
   "hash": "e449e2464aa6784a7c762a4a40d023d951a287ecae2dad782490be59e801086b"
  },
  "kernelspec": {
   "display_name": "Python 3.8.8 64-bit ('base': conda)",
   "language": "python",
   "name": "python3"
  },
  "language_info": {
   "codemirror_mode": {
    "name": "ipython",
    "version": 3
   },
   "file_extension": ".py",
   "mimetype": "text/x-python",
   "name": "python",
   "nbconvert_exporter": "python",
   "pygments_lexer": "ipython3",
   "version": "3.8.8"
  },
  "orig_nbformat": 4
 },
 "nbformat": 4,
 "nbformat_minor": 2
}
