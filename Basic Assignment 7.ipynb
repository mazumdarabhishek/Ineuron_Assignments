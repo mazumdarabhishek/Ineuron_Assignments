{
 "cells": [
  {
   "cell_type": "markdown",
   "id": "ea364bca",
   "metadata": {},
   "source": [
    "1.\tWrite a Python Program to find sum of array?\n",
    "2.\tWrite a Python Program to find largest element in an array?\n",
    "3.\tWrite a Python Program for array rotation?\n",
    "4.\tWrite a Python Program to Split the array and add the first part to the end?\n",
    "5.\tWrite a Python Program to check if given array is Monotonic?\n"
   ]
  },
  {
   "cell_type": "code",
   "execution_count": 4,
   "id": "3f367e54",
   "metadata": {},
   "outputs": [],
   "source": [
    "#Q1\n",
    "def arr_sum(arr):\n",
    "    sum_ = 0\n",
    "    for i in range(len(arr)):\n",
    "        sum_ +=arr[i]\n",
    "    return sum_\n",
    "#normal sum()function can also be used here"
   ]
  },
  {
   "cell_type": "code",
   "execution_count": 5,
   "id": "8be75375",
   "metadata": {},
   "outputs": [
    {
     "data": {
      "text/plain": [
       "21"
      ]
     },
     "execution_count": 5,
     "metadata": {},
     "output_type": "execute_result"
    }
   ],
   "source": [
    "x = [1,2,3,4,5,6]\n",
    "arr_sum(x)"
   ]
  },
  {
   "cell_type": "code",
   "execution_count": 6,
   "id": "3503da58",
   "metadata": {},
   "outputs": [],
   "source": [
    "#Q2\n",
    "def find_largest(arr):\n",
    "    length = len(arr)\n",
    "    max = arr[0]\n",
    "    for i in range(1,length):\n",
    "        if arr[i]>max:\n",
    "            max = arr[i]\n",
    "    return max\n",
    "\n",
    "        \n",
    "        "
   ]
  },
  {
   "cell_type": "code",
   "execution_count": 7,
   "id": "2379cb07",
   "metadata": {},
   "outputs": [
    {
     "data": {
      "text/plain": [
       "6"
      ]
     },
     "execution_count": 7,
     "metadata": {},
     "output_type": "execute_result"
    }
   ],
   "source": [
    "find_largest(x)"
   ]
  },
  {
   "cell_type": "code",
   "execution_count": 2,
   "id": "106d712e",
   "metadata": {},
   "outputs": [],
   "source": [
    "#Q3\n",
    "def arr_rotation(arr,x):\n",
    "    new_arr = []\n",
    "    temp=[]\n",
    "    i =0\n",
    "    while(i<x):\n",
    "        temp.append(arr[i])\n",
    "        i+=1\n",
    "    for j in range(x,len(arr)):\n",
    "        new_arr.append(arr[j])\n",
    "    return new_arr + temp\n",
    "    "
   ]
  },
  {
   "cell_type": "code",
   "execution_count": 4,
   "id": "16ae33ec",
   "metadata": {},
   "outputs": [
    {
     "data": {
      "text/plain": [
       "[3, 4, 5, 6, 1, 2]"
      ]
     },
     "execution_count": 4,
     "metadata": {},
     "output_type": "execute_result"
    }
   ],
   "source": [
    "x = [1,2,3,4,5,6]\n",
    "arr_rotation(x,2)"
   ]
  },
  {
   "cell_type": "code",
   "execution_count": 5,
   "id": "692db8d7",
   "metadata": {},
   "outputs": [
    {
     "data": {
      "text/plain": [
       "[4, 5, 6, 1, 2, 3]"
      ]
     },
     "execution_count": 5,
     "metadata": {},
     "output_type": "execute_result"
    }
   ],
   "source": [
    "#Q4\n",
    "def split_n_join(arr,split_point):\n",
    "    first_half = arr[:split_point]\n",
    "    second_half = arr[split_point:]\n",
    "    new_array = second_half + first_half\n",
    "    return new_array\n",
    "split_n_join(x,3)\n",
    "        "
   ]
  },
  {
   "cell_type": "code",
   "execution_count": null,
   "id": "79b11df3",
   "metadata": {},
   "outputs": [],
   "source": [
    "#Q5\n",
    "#if the array is either ascending or decendingly arranged, it is called as Monotonic.\n",
    "def is_monotonic(arr):\n",
    "    for i in range(len(arr)-1):\n",
    "        if arr[i]<=arr[i+1] or arr[i]>=arr[i+1]:\n",
    "            continue\n",
    "        else:\n",
    "            print(\"The array is not Monotonic \")\n",
    "            break\n",
    "            \n"
   ]
  },
  {
   "cell_type": "code",
   "execution_count": null,
   "id": "d2fd68f1",
   "metadata": {},
   "outputs": [],
   "source": []
  }
 ],
 "metadata": {
  "kernelspec": {
   "display_name": "Python 3",
   "language": "python",
   "name": "python3"
  },
  "language_info": {
   "codemirror_mode": {
    "name": "ipython",
    "version": 3
   },
   "file_extension": ".py",
   "mimetype": "text/x-python",
   "name": "python",
   "nbconvert_exporter": "python",
   "pygments_lexer": "ipython3",
   "version": "3.8.8"
  }
 },
 "nbformat": 4,
 "nbformat_minor": 5
}
